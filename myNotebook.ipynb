{
 "cells": [
  {
   "cell_type": "code",
   "execution_count": 1,
   "metadata": {},
   "outputs": [
    {
     "name": "stdout",
     "output_type": "stream",
     "text": [
      "処理終了\n"
     ]
    }
   ],
   "source": [
    "# ライブラリ\n",
    "from requests_oauthlib import OAuth1Session\n",
    "from dateutil import parser\n",
    "from pytz import timezone\n",
    "import json\n",
    "import datetime\n",
    "import csv\n",
    "import os\n",
    "\n",
    "# APIキー => 環境変数から取得\n",
    "API_KEY = os.environ['TWITTER_API_KEY']\n",
    "\n",
    "# API秘密キー => 環境変数から取得\n",
    "API_SECRET_KEY = os.environ['TWITTER_API_SECRET_KEY']\n",
    "\n",
    "# アクセストークン => 環境変数から取得\n",
    "ACCESS_TOKEN = os.environ['TWITTER_ACCESS_TOKEN']\n",
    "\n",
    "# アクセス秘密トークン => 環境変数から取得\n",
    "ACCESS_TOKEN_SECRET = os.environ['TWITTER_ACCESS_TOKEN_SECRET']\n",
    "\n",
    "# 取得するツイート数\n",
    "TWEET_COUNT = 2\n",
    "\n",
    "# 取得するツイートタイプ(最新ツイート)\n",
    "TWEET_TYPE = 'recent'\n",
    "\n",
    "# 言語(日本語)\n",
    "LANG = 'ja'\n",
    "\n",
    "# 検索キーワード\n",
    "KEYWORD = 'LPIC305'\n",
    "\n",
    "# パラメータ(辞書)\n",
    "PARAMS = { \"count\": TWEET_COUNT, \"result_type\": TWEET_TYPE, \"lang\": LANG, \"q\": KEYWORD }\n",
    "\n",
    "# API接続先\n",
    "URL = 'https://api.twitter.com/1.1/search/tweets.json'\n",
    "\n",
    "# API接続\n",
    "twitter = OAuth1Session(API_KEY, API_SECRET_KEY, ACCESS_TOKEN, ACCESS_TOKEN_SECRET)\n",
    "\n",
    "# ツイート検索\n",
    "response = twitter.get(URL, params=PARAMS)\n",
    "\n",
    "# 取得データ(JSON)を辞書型に変換\n",
    "twitter_data = json.loads(response.text)\n",
    "\n",
    "# ツイート保持リストを初期化\n",
    "tweet_list = []\n",
    "\n",
    "# 取得データ(辞書型)をループ処理\n",
    "for tweet in twitter_data['statuses']:\n",
    "    # ユーザー名\n",
    "    user_name = tweet['user']['name']\n",
    "    # 投稿日時\n",
    "    created = str(parser.parse(tweet['created_at']).astimezone(timezone('Asia/Tokyo')))\n",
    "    # フォロワー数\n",
    "    followers = tweet['user']['followers_count']\n",
    "    # ツイート文\n",
    "    user_text = tweet['text']\n",
    "    # ツイート保持リストに格納\n",
    "    tweet_list.append([user_name, created, followers, user_text])\n",
    "\n",
    "# CSVファイル\n",
    "csv_head = ['ユーザー名', '投稿日時', 'フォロワー数', 'ツイート文']\n",
    "csv_date = datetime.datetime.today().strftime('%Y%m%d%H')\n",
    "csv_file = 'twitter_' + csv_date + '.csv'\n",
    "\n",
    "# CSVファイルにデータ保存\n",
    "with open(csv_file, 'w', errors='ignore') as file:\n",
    "    writer = csv.writer(file, lineterminator='\\n')\n",
    "    writer.writerow(csv_head)\n",
    "    writer.writerows(tweet_list)\n",
    "\n",
    "# プログラム終了\n",
    "print('処理終了')"
   ]
  },
  {
   "cell_type": "code",
   "execution_count": 2,
   "metadata": {},
   "outputs": [
    {
     "data": {
      "text/plain": [
       "[]"
      ]
     },
     "execution_count": 2,
     "metadata": {},
     "output_type": "execute_result"
    }
   ],
   "source": [
    "tweet_list"
   ]
  },
  {
   "cell_type": "code",
   "execution_count": null,
   "metadata": {},
   "outputs": [],
   "source": []
  }
 ],
 "metadata": {
  "kernelspec": {
   "display_name": "Python 3",
   "language": "python",
   "name": "python3"
  },
  "language_info": {
   "codemirror_mode": {
    "name": "ipython",
    "version": 3
   },
   "file_extension": ".py",
   "mimetype": "text/x-python",
   "name": "python",
   "nbconvert_exporter": "python",
   "pygments_lexer": "ipython3",
   "version": "3.8.3"
  }
 },
 "nbformat": 4,
 "nbformat_minor": 4
}
